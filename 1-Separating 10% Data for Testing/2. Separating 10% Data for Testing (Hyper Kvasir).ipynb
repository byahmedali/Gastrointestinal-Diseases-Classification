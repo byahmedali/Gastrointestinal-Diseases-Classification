{
 "cells": [
  {
   "cell_type": "markdown",
   "metadata": {},
   "source": [
    "### Download and extract the labeled images in the [Hyper Kvasir Dataset](https://datasets.simula.no/hyper-kvasir/)."
   ]
  },
  {
   "cell_type": "code",
   "execution_count": 1,
   "metadata": {
    "colab": {
     "base_uri": "https://localhost:8080/"
    },
    "id": "ktyzeZZhgPyc",
    "outputId": "a45ebb42-ece4-4217-ed9b-bf01066d0d48"
   },
   "outputs": [
    {
     "name": "stdout",
     "output_type": "stream",
     "text": [
      "--2024-01-05 13:07:56--  https://datasets.simula.no/downloads/hyper-kvasir/hyper-kvasir-labeled-images.zip\n",
      "Resolving datasets.simula.no (datasets.simula.no)... 128.39.36.14\n",
      "Connecting to datasets.simula.no (datasets.simula.no)|128.39.36.14|:443... connected.\n",
      "HTTP request sent, awaiting response... 200 OK\n",
      "Length: 3928814344 (3.7G) [application/zip]\n",
      "Saving to: ‘hyper-kvasir-labeled-images.zip’\n",
      "\n",
      "hyper-kvasir-labele 100%[===================>]   3.66G  23.9MB/s    in 2m 38s  \n",
      "\n",
      "2024-01-05 13:10:35 (23.7 MB/s) - ‘hyper-kvasir-labeled-images.zip’ saved [3928814344/3928814344]\n",
      "\n"
     ]
    }
   ],
   "source": [
    "!mkdir kvasir\n",
    "!wget https://datasets.simula.no/downloads/hyper-kvasir/hyper-kvasir-labeled-images.zip\n",
    "\n",
    "import zipfile\n",
    "zip_ref = zipfile.ZipFile('/content/hyper-kvasir-labeled-images.zip')\n",
    "zip_ref.extractall('/content/kvasir')\n",
    "zip_ref.close()"
   ]
  },
  {
   "cell_type": "markdown",
   "metadata": {},
   "source": [
    "### Removing unnecessary classes. We only need 'esophagitis-a' and 'esophagitis-b-d' classes."
   ]
  },
  {
   "cell_type": "code",
   "execution_count": 2,
   "metadata": {
    "id": "KMYi6gVhvkR0"
   },
   "outputs": [],
   "source": [
    "!rm -r /content/kvasir/labeled-images/upper-gi-tract/pathological-findings/barretts\n",
    "!rm -r /content/kvasir/labeled-images/upper-gi-tract/pathological-findings/barretts-short-segment"
   ]
  },
  {
   "cell_type": "markdown",
   "metadata": {},
   "source": [
    "### Randomly moving 10% of the images from each sub-directory to a new folder named Validation_dir."
   ]
  },
  {
   "cell_type": "markdown",
   "metadata": {},
   "source": [
    "These 10% of images will never be used for training the model. They will only be used for testing the models as unseen data."
   ]
  },
  {
   "cell_type": "code",
   "execution_count": 3,
   "metadata": {
    "id": "Y7YNd1m1kJMX"
   },
   "outputs": [],
   "source": [
    "import os\n",
    "import random\n",
    "import shutil\n",
    "\n",
    "# Define paths\n",
    "source_dir = '/content/kvasir/labeled-images/upper-gi-tract/pathological-findings'\n",
    "validation_dir = '/content/eshphagitis-severity-validation'\n",
    "\n",
    "# Create validation directory if it doesn't exist\n",
    "if not os.path.exists(validation_dir):\n",
    "    os.makedirs(validation_dir)\n",
    "\n",
    "# Get list of category folders in the source directory\n",
    "categories = os.listdir(source_dir)\n",
    "\n",
    "# Function to move a percentage of images from source to destination\n",
    "def move_random_images(category, percentage=0.1):\n",
    "    source_category_path = os.path.join(source_dir, category)\n",
    "    validation_category_path = os.path.join(validation_dir, category)\n",
    "\n",
    "    # Create category folder in validation directory\n",
    "    if not os.path.exists(validation_category_path):\n",
    "        os.makedirs(validation_category_path)\n",
    "\n",
    "    # Get list of images in the category folder\n",
    "    images = os.listdir(source_category_path)\n",
    "    num_images_to_move = int(percentage * len(images))\n",
    "\n",
    "    # Randomly select images\n",
    "    random_images = random.sample(images, num_images_to_move)\n",
    "\n",
    "    # Move selected images to validation directory\n",
    "    for image in random_images:\n",
    "        source_path = os.path.join(source_category_path, image)\n",
    "        destination_path = os.path.join(validation_category_path, image)\n",
    "        shutil.move(source_path, destination_path)\n",
    "\n",
    "# Move 10% of images from each category to the validation directory\n",
    "for category in categories:\n",
    "    move_random_images(category, percentage=0.1)"
   ]
  },
  {
   "cell_type": "markdown",
   "metadata": {},
   "source": [
    "### Verifying the correct distribution of images"
   ]
  },
  {
   "cell_type": "code",
   "execution_count": 4,
   "metadata": {
    "colab": {
     "base_uri": "https://localhost:8080/"
    },
    "id": "rXuqWsx93fkk",
    "outputId": "52db6b18-0734-420d-ab57-4fb0b9b98c9a"
   },
   "outputs": [
    {
     "name": "stdout",
     "output_type": "stream",
     "text": [
      "Total source images: 597\n",
      "Total validation images: 66\n"
     ]
    }
   ],
   "source": [
    "def count_images_in_directory(directory):\n",
    "    count = 0\n",
    "    for root, dirs, files in os.walk(directory):\n",
    "        count += len(files)\n",
    "    return count\n",
    "\n",
    "# Count images in the source directory\n",
    "total_source_images = 0\n",
    "for category in categories:\n",
    "    source_category_path = os.path.join(source_dir, category)\n",
    "    total_source_images += count_images_in_directory(source_category_path)\n",
    "\n",
    "# Count images in the validation directory\n",
    "total_validation_images = count_images_in_directory(validation_dir)\n",
    "\n",
    "# Print the results\n",
    "print(f\"Total source images: {total_source_images}\")\n",
    "print(f\"Total validation images: {total_validation_images}\")\n"
   ]
  },
  {
   "cell_type": "markdown",
   "metadata": {},
   "source": [
    "### Verifying data distribution for each class"
   ]
  },
  {
   "cell_type": "code",
   "execution_count": 5,
   "metadata": {
    "colab": {
     "base_uri": "https://localhost:8080/"
    },
    "id": "zUUttjP1AxxS",
    "outputId": "b496a94e-1da6-4d76-d9c4-afdbd7983b62"
   },
   "outputs": [
    {
     "name": "stdout",
     "output_type": "stream",
     "text": [
      "Source Dataset:\n",
      "esophagitis-a: 363 images.\n",
      "esophagitis-b-d: 234 images.\n",
      "\n",
      "Validation Dataset:\n",
      "esophagitis-a: 40 images.\n",
      "esophagitis-b-d: 26 images.\n"
     ]
    }
   ],
   "source": [
    "def count_images_in_directory_recursive_with_subdirectories(directory):\n",
    "    counts = {}\n",
    "\n",
    "    for root, dirs, files in os.walk(directory):\n",
    "        current_dir = os.path.relpath(root, directory)\n",
    "\n",
    "        # Skip counting if it's the main directory\n",
    "        if current_dir == '.':\n",
    "            continue\n",
    "\n",
    "        counts[current_dir] = len(files)\n",
    "\n",
    "    return counts\n",
    "\n",
    "# Count images in the source dataset with subdirectories\n",
    "source_counts = count_images_in_directory_recursive_with_subdirectories(source_dir)\n",
    "\n",
    "# Count images in the validation dataset with subdirectories\n",
    "validation_counts = count_images_in_directory_recursive_with_subdirectories(validation_dir)\n",
    "\n",
    "# Print the results\n",
    "print(\"Source Dataset:\")\n",
    "for subdirectory, count in source_counts.items():\n",
    "    print(f\"{subdirectory}: {count} images.\")\n",
    "\n",
    "print(\"\\nValidation Dataset:\")\n",
    "for subdirectory, count in validation_counts.items():\n",
    "    print(f\"{subdirectory}: {count} images.\")"
   ]
  },
  {
   "cell_type": "markdown",
   "metadata": {},
   "source": [
    "### Following part is Optional\n",
    "We compress (zip) the data and upload them to our personal drives. After separating 10% image, we have made both datasets available at Google drive as well as Onedrive."
   ]
  },
  {
   "cell_type": "markdown",
   "metadata": {},
   "source": [
    "### Microsoft Onedrive Links\n",
    "\n",
    "Esophagitis Severity Dataset: https://pern-my.sharepoint.com/:u:/g/personal/m21f0034ai010_fecid_paf-iast_edu_pk/ETUX9oiTyy1Dobrv87loEoQB8DTIkZpeCpZdhyGgW9a5MQ?e=stvKpT&download=1\n",
    "\n",
    "Esophagitis Severity Validation Dataset: https://pern-my.sharepoint.com/:u:/g/personal/m21f0034ai010_fecid_paf-iast_edu_pk/EeQQ4EsiCa9DqXpKH04T_lgB29wtQVSBnPvABYtFaVL8hw?e=V3m0Bo&download=1\n"
   ]
  },
  {
   "cell_type": "markdown",
   "metadata": {},
   "source": [
    "### Google Drive Links\n",
    "\n",
    "Esophagitis Severity Dataset: https://drive.google.com/file/d/12VX4JNZCdQeKYjbl8hCZhyNRCBR-wFLA/view?usp=sharing\n",
    "\n",
    "Esophagitis Severity Validation Dataset: https://drive.google.com/file/d/18M-VYljIJuWxKam2gf15jcY_cRQyvJNK/view?usp=sharing"
   ]
  },
  {
   "cell_type": "code",
   "execution_count": 4,
   "metadata": {
    "colab": {
     "base_uri": "https://localhost:8080/",
     "height": 1000
    },
    "id": "khF9WPdm5x94",
    "outputId": "90f22065-bb9b-4391-d16d-00dedab201ea"
   },
   "outputs": [
    {
     "ename": "ModuleNotFoundError",
     "evalue": "No module named 'google.colab'",
     "output_type": "error",
     "traceback": [
      "\u001b[1;31m---------------------------------------------------------------------------\u001b[0m",
      "\u001b[1;31mModuleNotFoundError\u001b[0m                       Traceback (most recent call last)",
      "Cell \u001b[1;32mIn[4], line 1\u001b[0m\n\u001b[1;32m----> 1\u001b[0m \u001b[38;5;28;01mfrom\u001b[39;00m \u001b[38;5;21;01mgoogle\u001b[39;00m\u001b[38;5;21;01m.\u001b[39;00m\u001b[38;5;21;01mcolab\u001b[39;00m \u001b[38;5;28;01mimport\u001b[39;00m files\n\u001b[0;32m      3\u001b[0m \u001b[38;5;66;03m# Zip the source dataset\u001b[39;00m\n\u001b[0;32m      4\u001b[0m get_ipython()\u001b[38;5;241m.\u001b[39msystem(\u001b[38;5;124m'\u001b[39m\u001b[38;5;124mzip -r esophagitis-severity.zip /content/kvasir/labeled-images/upper-gi-tract/pathological-findings\u001b[39m\u001b[38;5;124m'\u001b[39m)\n",
      "\u001b[1;31mModuleNotFoundError\u001b[0m: No module named 'google.colab'"
     ]
    }
   ],
   "source": [
    "from google.colab import files\n",
    "\n",
    "# Zip the source dataset\n",
    "!zip -r esophagitis-severity.zip /content/kvasir/labeled-images/upper-gi-tract/pathological-findings\n",
    "\n",
    "# Zip the validation dataset\n",
    "!zip -r eshphagitis-severity-validation.zip /content/eshphagitis-severity-validation"
   ]
  },
  {
   "cell_type": "code",
   "execution_count": 8,
   "metadata": {
    "colab": {
     "base_uri": "https://localhost:8080/",
     "height": 17
    },
    "id": "tQvK6ACtyEij",
    "outputId": "b9bcbcf9-639c-41eb-f27c-d3642f2f083a"
   },
   "outputs": [
    {
     "data": {
      "application/javascript": [
       "\n",
       "    async function download(id, filename, size) {\n",
       "      if (!google.colab.kernel.accessAllowed) {\n",
       "        return;\n",
       "      }\n",
       "      const div = document.createElement('div');\n",
       "      const label = document.createElement('label');\n",
       "      label.textContent = `Downloading \"${filename}\": `;\n",
       "      div.appendChild(label);\n",
       "      const progress = document.createElement('progress');\n",
       "      progress.max = size;\n",
       "      div.appendChild(progress);\n",
       "      document.body.appendChild(div);\n",
       "\n",
       "      const buffers = [];\n",
       "      let downloaded = 0;\n",
       "\n",
       "      const channel = await google.colab.kernel.comms.open(id);\n",
       "      // Send a message to notify the kernel that we're ready.\n",
       "      channel.send({})\n",
       "\n",
       "      for await (const message of channel.messages) {\n",
       "        // Send a message to notify the kernel that we're ready.\n",
       "        channel.send({})\n",
       "        if (message.buffers) {\n",
       "          for (const buffer of message.buffers) {\n",
       "            buffers.push(buffer);\n",
       "            downloaded += buffer.byteLength;\n",
       "            progress.value = downloaded;\n",
       "          }\n",
       "        }\n",
       "      }\n",
       "      const blob = new Blob(buffers, {type: 'application/binary'});\n",
       "      const a = document.createElement('a');\n",
       "      a.href = window.URL.createObjectURL(blob);\n",
       "      a.download = filename;\n",
       "      div.appendChild(a);\n",
       "      a.click();\n",
       "      div.remove();\n",
       "    }\n",
       "  "
      ],
      "text/plain": [
       "<IPython.core.display.Javascript object>"
      ]
     },
     "metadata": {},
     "output_type": "display_data"
    },
    {
     "data": {
      "application/javascript": [
       "download(\"download_aa76b600-9e96-49f8-abb4-559f19deb1c5\", \"esophagitis-severity.zip\", 435304862)"
      ],
      "text/plain": [
       "<IPython.core.display.Javascript object>"
      ]
     },
     "metadata": {},
     "output_type": "display_data"
    },
    {
     "data": {
      "application/javascript": [
       "\n",
       "    async function download(id, filename, size) {\n",
       "      if (!google.colab.kernel.accessAllowed) {\n",
       "        return;\n",
       "      }\n",
       "      const div = document.createElement('div');\n",
       "      const label = document.createElement('label');\n",
       "      label.textContent = `Downloading \"${filename}\": `;\n",
       "      div.appendChild(label);\n",
       "      const progress = document.createElement('progress');\n",
       "      progress.max = size;\n",
       "      div.appendChild(progress);\n",
       "      document.body.appendChild(div);\n",
       "\n",
       "      const buffers = [];\n",
       "      let downloaded = 0;\n",
       "\n",
       "      const channel = await google.colab.kernel.comms.open(id);\n",
       "      // Send a message to notify the kernel that we're ready.\n",
       "      channel.send({})\n",
       "\n",
       "      for await (const message of channel.messages) {\n",
       "        // Send a message to notify the kernel that we're ready.\n",
       "        channel.send({})\n",
       "        if (message.buffers) {\n",
       "          for (const buffer of message.buffers) {\n",
       "            buffers.push(buffer);\n",
       "            downloaded += buffer.byteLength;\n",
       "            progress.value = downloaded;\n",
       "          }\n",
       "        }\n",
       "      }\n",
       "      const blob = new Blob(buffers, {type: 'application/binary'});\n",
       "      const a = document.createElement('a');\n",
       "      a.href = window.URL.createObjectURL(blob);\n",
       "      a.download = filename;\n",
       "      div.appendChild(a);\n",
       "      a.click();\n",
       "      div.remove();\n",
       "    }\n",
       "  "
      ],
      "text/plain": [
       "<IPython.core.display.Javascript object>"
      ]
     },
     "metadata": {},
     "output_type": "display_data"
    },
    {
     "data": {
      "application/javascript": [
       "download(\"download_5cb79d7a-fa3c-4a58-aa45-773d5fafbb64\", \"eshphagitis-severity-validation.zip\", 47456989)"
      ],
      "text/plain": [
       "<IPython.core.display.Javascript object>"
      ]
     },
     "metadata": {},
     "output_type": "display_data"
    }
   ],
   "source": [
    "# Download the files\n",
    "files.download(\"/content/esophagitis-severity.zip\")\n",
    "files.download(\"/content/eshphagitis-severity-validation.zip\")"
   ]
  }
 ],
 "metadata": {
  "colab": {
   "provenance": []
  },
  "kernelspec": {
   "display_name": "Python 3 (ipykernel)",
   "language": "python",
   "name": "python3"
  },
  "language_info": {
   "codemirror_mode": {
    "name": "ipython",
    "version": 3
   },
   "file_extension": ".py",
   "mimetype": "text/x-python",
   "name": "python",
   "nbconvert_exporter": "python",
   "pygments_lexer": "ipython3",
   "version": "3.12.2"
  }
 },
 "nbformat": 4,
 "nbformat_minor": 4
}
